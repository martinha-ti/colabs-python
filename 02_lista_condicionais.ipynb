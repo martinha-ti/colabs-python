{
  "nbformat": 4,
  "nbformat_minor": 0,
  "metadata": {
    "colab": {
      "provenance": [],
      "authorship_tag": "ABX9TyOVdPb5wdu3FxF6VupzyWA2",
      "include_colab_link": true
    },
    "kernelspec": {
      "name": "python3",
      "display_name": "Python 3"
    },
    "language_info": {
      "name": "python"
    }
  },
  "cells": [
    {
      "cell_type": "markdown",
      "metadata": {
        "id": "view-in-github",
        "colab_type": "text"
      },
      "source": [
        "<a href=\"https://colab.research.google.com/github/martinha-ti/colabs-python/blob/main/02_lista_condicionais.ipynb\" target=\"_parent\"><img src=\"https://colab.research.google.com/assets/colab-badge.svg\" alt=\"Open In Colab\"/></a>"
      ]
    },
    {
      "cell_type": "markdown",
      "source": [
        "Desenvolva um programa para ler a idade do usuário e escrever a mensagem Você é maior de idade! se o valor recebido for maior ou igual que 18 (if), caso contrário (else) escrever Você é menor de idade!"
      ],
      "metadata": {
        "id": "1fbvIm_gy8WI"
      }
    },
    {
      "cell_type": "code",
      "execution_count": 5,
      "metadata": {
        "colab": {
          "base_uri": "https://localhost:8080/"
        },
        "id": "cI7Ob-KWun1C",
        "outputId": "d2fa5d2e-e9e7-483f-d9ec-9c15acb7b670"
      },
      "outputs": [
        {
          "output_type": "stream",
          "name": "stdout",
          "text": [
            "Digite sua idade: 25\n",
            "Você é maior de idade\n"
          ]
        }
      ],
      "source": [
        "idade = int(input(\"Digite sua idade: \"))\n",
        "\n",
        "if idade >= 18:\n",
        "    print(\"Você é maior de idade!\")\n",
        "else:\n",
        "    print(\"Você é menor de idade!\")\n",
        "\n",
        "# condicional para verificar se a pessoa é maior de idade"
      ]
    },
    {
      "cell_type": "markdown",
      "source": [
        "Desenvolva um programa para ler um valor e escrever a mensagem É MAIOR QUE 10 se o valor recebido for maior que 10 (if), caso contrário (else) escrever NÃO É MAIOR QUE 10!\n"
      ],
      "metadata": {
        "id": "SEyviPQpyjBr"
      }
    },
    {
      "cell_type": "code",
      "source": [
        "# valor que está sendo verificado\n",
        "valor = 2\n",
        "# verifica pra mim se o valor é maior que 10\n",
        "if valor > 10:\n",
        "    print(\"O valor é maior\")\n",
        "# se não for maior que 10, mostra que não é (default)\n",
        "else:\n",
        "    print(\"O valor é menor\")"
      ],
      "metadata": {
        "colab": {
          "base_uri": "https://localhost:8080/"
        },
        "id": "KCK_vu6EvhEg",
        "outputId": "ed28be90-b7f5-49ad-e514-2c59beec84d4"
      },
      "execution_count": 4,
      "outputs": [
        {
          "output_type": "stream",
          "name": "stdout",
          "text": [
            "Valor menor que 10\n"
          ]
        }
      ]
    },
    {
      "cell_type": "markdown",
      "source": [
        "Desenvolva um programa para ler um valor e escrever a mensagem se é positivo ou negativo (considere o valor zero como positivo).\n"
      ],
      "metadata": {
        "id": "fJvlGf5EztuV"
      }
    },
    {
      "cell_type": "code",
      "source": [
        "valor = int(input(\"Digite um valor: \"))\n",
        "if valor >= 0:\n",
        "    print(\"O valor é positivo\")\n",
        "else:\n",
        "    print(\"O valor é negativo\")"
      ],
      "metadata": {
        "colab": {
          "base_uri": "https://localhost:8080/"
        },
        "id": "KfP_13Q4z0qV",
        "outputId": "d1fec873-e5d6-4048-852a-7d8c66757f91"
      },
      "execution_count": 10,
      "outputs": [
        {
          "output_type": "stream",
          "name": "stdout",
          "text": [
            "O valor é positivo\n"
          ]
        }
      ]
    },
    {
      "cell_type": "markdown",
      "source": [
        "As maçãs custam 2,20 cada se forem compradas menos de uma dúzia, e 2,00 se forem compradas pelo menos 12. Desenvolva um programa que leia o número de maçãs compradas, calcule e escreva o custo total da compra."
      ],
      "metadata": {
        "id": "rVhNHon48baQ"
      }
    },
    {
      "cell_type": "code",
      "source": [
        "qtde = int(input(\"Digite a quantidade de maçãs: \"))\n",
        "if qtde < 12:\n",
        "    valor = 2.20\n",
        "else:\n",
        "    valor = 2.0\n",
        "custo_total = qtde * valor\n",
        "print(\"O custo total é de:\", custo_total)\n",
        "#print(f\"O custo total da compra é: R$ {custo_total:.2f}\")\n",
        "# o \":.2f\" pode ser usado para encurtar valores decimais conforme a qtde de casas desejadas para o resultado.\n",
        "\"\"\"\n",
        "1 - inserir a qtde de maçãs da compra\n",
        "2 - o algoritmo verifica se for menor que 12 o valor é 2.20 (if),\n",
        "3 - se não, o valor é 2.00 (else)\n",
        "4 - calcular o valor total da compra, multiplicando a qtde pelo valor\n",
        "obs: utilizar ou não:.2f para encurtar os valores decimais\n",
        "\"\"\""
      ],
      "metadata": {
        "colab": {
          "base_uri": "https://localhost:8080/"
        },
        "id": "1fJ8WCoE9lsZ",
        "outputId": "9d4cce15-b3dc-43b1-c52d-999c94cfca8f"
      },
      "execution_count": 21,
      "outputs": [
        {
          "output_type": "stream",
          "name": "stdout",
          "text": [
            "Digite a quantidade de maçãs: 11\n",
            "O custo total é de: 24.200000000000003\n"
          ]
        }
      ]
    }
  ]
}